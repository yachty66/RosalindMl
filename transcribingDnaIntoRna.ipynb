{
 "cells": [
  {
   "cell_type": "code",
   "execution_count": 42,
   "metadata": {},
   "outputs": [],
   "source": [
    "import numpy as np\n",
    "import random \n",
    "from sklearn.linear_model import LinearRegression"
   ]
  },
  {
   "cell_type": "markdown",
   "metadata": {},
   "source": [
    "i need a dataset which contains x = dna strings and y = transcriped rna string of each dna string from x. With that dataset I need to. Omg that is my startup. scientific machine learning. i will get also my fellowship for bay area with this idea. i will be a fellow from the foresight institute and work full time on revolutionizing the education system while learning more about ai than every phd student. i also can hire everyone in the flat to work on the startup in a nice house in palo alto. next year in the summer my dream of driving with an miami blue 911er into my dads entry to his company becomes also true. i specifically will come if there is an event of him. i will walk inside of the building and ask my dad. come with me. and than I will drive with him with my porsche one round through lengenfeld. I let my dad also drive. \n",
    "\n",
    "1. create 1000 dna strings and save them as X - \n",
    "2. get the algorithmus which i have written and generate 1000 y - \n",
    "3. split in train and test data - \n",
    "4. train a model with linear regression on it - \n",
    "5. run test data through the model - \n",
    "    - model outputs y labels\n",
    "    - calculate for each predicted y % of how many letters where correct\n",
    "    - collect results from above in list and return avg to get accuracy \n",
    "    - if accuracy is > 80% i passed\n",
    "6. Repeat test with 50 examples where each example has len 1000. Acc needs to be close to same"
   ]
  },
  {
   "cell_type": "code",
   "execution_count": 76,
   "metadata": {},
   "outputs": [
    {
     "name": "stdout",
     "output_type": "stream",
     "text": [
      "0.9930434782608699\n"
     ]
    }
   ],
   "source": [
    "#creation of dataset\n",
    "\n",
    "def createX():\n",
    "    alphabet = [\"A\", \"C\", \"G\", \"T\"]\n",
    "    X = []\n",
    "    x = []\n",
    "    for i in range(1000):\n",
    "        for j in range(23):\n",
    "            rand = random.sample([0, 1, 2, 3], 1)\n",
    "            x.append(alphabet[rand[0]])\n",
    "\n",
    "        X.append(x)\n",
    "        x = []\n",
    "    return X\n",
    "    \n",
    "def createY(X):\n",
    "    y = []\n",
    "    Y=[]\n",
    "    for i in range(len(X)):\n",
    "        for j in range(23):\n",
    "            if X[i][j] == \"T\":\n",
    "                y.append(X[i][j].replace(\"T\", \"U\"))\n",
    "            else:\n",
    "                y.append(X[i][j])\n",
    "        Y.append(y)\n",
    "        y=[]\n",
    "    return Y\n",
    "\n",
    "def replacer(char):\n",
    "    if char == \"A\":\n",
    "        return 1\n",
    "    elif char == \"C\":\n",
    "        return 2\n",
    "    elif char == \"G\":\n",
    "        return 3\n",
    "    elif char == \"T\":\n",
    "        return 4\n",
    "    elif char == \"U\":\n",
    "        return 5\n",
    "\n",
    "def createVectors(X,Y):\n",
    "    for i in range(len(X)):\n",
    "        for j in range(23):\n",
    "            X[i][j] = replacer(X[i][j])\n",
    "            Y[i][j] = replacer(Y[i][j])\n",
    "    return X, Y\n",
    "    \n",
    "def finalData(X, Y):\n",
    "    xTrain = np.array(X[:800])\n",
    "    xTest = np.array(X[800:])\n",
    "    yTrain = np.array(Y[:800])\n",
    "    yTest = np.array(Y[800:])\n",
    "    return xTrain, xTest, yTrain, yTest\n",
    "\n",
    "def classifier(Y):\n",
    "    for i in range(len(Y)):\n",
    "        for j in range(23):\n",
    "            Y[i][j] = round(Y[i][j])\n",
    "    return Y \n",
    "\n",
    "def accuracy(predictedY, Y):\n",
    "    #take list from same position of both and calculate percentage of correct predictions\n",
    "    '''\n",
    "    1. define list for percentages and counter and var for percentage\n",
    "    2. iter over list from same position of both and if val from position in list is the same increase counter by one\n",
    "    3. at end of iter for list set percentage to counter/23 and append to list with percentages. set counter to 0\n",
    "    4. return average from list with percentages\n",
    "    '''\n",
    "    percentages = []\n",
    "    counter = 0\n",
    "    percentage = 0\n",
    "    for i in range(len(Y)):\n",
    "        for j in range(23):\n",
    "            if predictedY[i][j] == Y[i][j]:\n",
    "                counter += 1\n",
    "        percentage = counter/23\n",
    "        percentages.append(percentage)\n",
    "        counter = 0\n",
    "    return sum(percentages)/len(percentages)\n",
    "\n",
    "    \n",
    "if __name__ == \"__main__\":\n",
    "    #i failed a bit here. The goal is to input a dna string and get an rna string as output. currently I input the vector of an dna string and i get an rna vector as output.\n",
    "    #goal is to input a dna string and get an rna string as output\n",
    "    '''\n",
    "    1. create model method which takes x as input\n",
    "    2. calls replacer on x input\n",
    "    3. calling predict with output from replacer\n",
    "    4. adjust classifier to be general\n",
    "    5. return classiefied output as string\n",
    "    '''\n",
    "    X = createX()\n",
    "    Y = createY(X)\n",
    "    X, Y = createVectors(X,Y)\n",
    "    xTrain, xTest, yTrain, yTest = finalData(X, Y)\n",
    "    reg = LinearRegression().fit(xTrain, yTrain)\n",
    "    predict = reg.predict(xTest)\n",
    "    final = classifier(predict)\n",
    "    acc = accuracy(final, yTest)\n",
    "\n",
    "    print(acc)\n",
    "    "
   ]
  },
  {
   "cell_type": "code",
   "execution_count": null,
   "metadata": {},
   "outputs": [],
   "source": [
    "def testForLongerStrings():\n",
    "    '''\n",
    "    learning is to built a model which can be used general for data\n",
    "    1. create one X with 50 char\n",
    "    2. create Y\n",
    "    2. \n",
    "    3. compare \n",
    "    '''"
   ]
  }
 ],
 "metadata": {
  "kernelspec": {
   "display_name": "Python 3.10.6 64-bit",
   "language": "python",
   "name": "python3"
  },
  "language_info": {
   "codemirror_mode": {
    "name": "ipython",
    "version": 3
   },
   "file_extension": ".py",
   "mimetype": "text/x-python",
   "name": "python",
   "nbconvert_exporter": "python",
   "pygments_lexer": "ipython3",
   "version": "3.10.6"
  },
  "orig_nbformat": 4,
  "vscode": {
   "interpreter": {
    "hash": "aee8b7b246df8f9039afb4144a1f6fd8d2ca17a180786b69acc140d282b71a49"
   }
  }
 },
 "nbformat": 4,
 "nbformat_minor": 2
}
